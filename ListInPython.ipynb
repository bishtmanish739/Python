{
 "cells": [
  {
   "cell_type": "markdown",
   "metadata": {},
   "source": [
    "# List In Python"
   ]
  },
  {
   "cell_type": "code",
   "execution_count": 1,
   "metadata": {},
   "outputs": [
    {
     "name": "stdout",
     "output_type": "stream",
     "text": [
      "Blank List: \n",
      "[]\n",
      "\n",
      "List of numbers: \n",
      "[10, 20, 14]\n",
      "\n",
      "List Items: \n",
      "Geeks\n",
      "Geeks\n",
      "\n",
      "Multi-Dimensional List: \n",
      "[['Geeks', 'For'], ['Geeks']]\n"
     ]
    }
   ],
   "source": [
    "# Python program to demonstrate \n",
    "# Creation of List \n",
    "\n",
    "# Creating a List \n",
    "List = [] \n",
    "print(\"Blank List: \") \n",
    "print(List) \n",
    "\n",
    "# Creating a List of numbers \n",
    "List = [10, 20, 14] \n",
    "print(\"\\nList of numbers: \") \n",
    "print(List) \n",
    "\n",
    "# Creating a List of strings and accessing \n",
    "# using index \n",
    "List = [\"Geeks\", \"For\", \"Geeks\"] \n",
    "print(\"\\nList Items: \") \n",
    "print(List[0]) \n",
    "print(List[2]) \n",
    "\n",
    "# Creating a Multi-Dimensional List \n",
    "# (By Nesting a list inside a List) \n",
    "List = [['Geeks', 'For'] , ['Geeks']] \n",
    "print(\"\\nMulti-Dimensional List: \") \n",
    "print(List) \n"
   ]
  },
  {
   "cell_type": "code",
   "execution_count": 2,
   "metadata": {},
   "outputs": [
    {
     "name": "stdout",
     "output_type": "stream",
     "text": [
      "\n",
      "List with the use of Numbers: \n",
      "[1, 2, 4, 4, 3, 3, 3, 6, 5]\n",
      "\n",
      "List with the use of Mixed Values: \n",
      "[1, 2, 'Geeks', 4, 'For', 6, 'Geeks']\n"
     ]
    }
   ],
   "source": [
    "# Creating a List with \n",
    "# the use of Numbers \n",
    "# (Having duplicate values) \n",
    "List = [1, 2, 4, 4, 3, 3, 3, 6, 5] \n",
    "print(\"\\nList with the use of Numbers: \") \n",
    "print(List) \n",
    "\n",
    "# Creating a List with \n",
    "# mixed type of values \n",
    "# (Having numbers and strings) \n",
    "List = [1, 2, 'Geeks', 4, 'For', 6, 'Geeks'] \n",
    "print(\"\\nList with the use of Mixed Values: \") \n",
    "print(List) \n"
   ]
  },
  {
   "cell_type": "code",
   "execution_count": 3,
   "metadata": {},
   "outputs": [
    {
     "name": "stdout",
     "output_type": "stream",
     "text": [
      "Initial blank List: \n",
      "[]\n",
      "\n",
      "List after Addition of Three elements: \n",
      "[1, 2, 4]\n",
      "\n",
      "List after Addition of elements from 1-3: \n",
      "[1, 2, 4, 1, 2, 3]\n",
      "\n",
      "List after Addition of a Tuple: \n",
      "[1, 2, 4, 1, 2, 3, (5, 6)]\n",
      "\n",
      "List after Addition of a List: \n",
      "[1, 2, 4, 1, 2, 3, (5, 6), ['For', 'Geeks']]\n"
     ]
    }
   ],
   "source": [
    "# Python program to demonstrate \n",
    "# Addition of elements in a List \n",
    "\n",
    "# Creating a List \n",
    "List = [] \n",
    "print(\"Initial blank List: \") \n",
    "print(List) \n",
    "\n",
    "# Addition of Elements \n",
    "# in the List \n",
    "List.append(1) \n",
    "List.append(2) \n",
    "List.append(4) \n",
    "print(\"\\nList after Addition of Three elements: \") \n",
    "print(List) \n",
    "\n",
    "# Adding elements to the List \n",
    "# using Iterator \n",
    "for i in range(1, 4): \n",
    "\tList.append(i) \n",
    "print(\"\\nList after Addition of elements from 1-3: \") \n",
    "print(List) \n",
    "\n",
    "# Adding Tuples to the List \n",
    "List.append((5, 6)) \n",
    "print(\"\\nList after Addition of a Tuple: \") \n",
    "print(List) \n",
    "\n",
    "# Addition of List to a List \n",
    "List2 = ['For', 'Geeks'] \n",
    "List.append(List2) \n",
    "print(\"\\nList after Addition of a List: \") \n",
    "print(List) \n"
   ]
  },
  {
   "cell_type": "code",
   "execution_count": 4,
   "metadata": {},
   "outputs": [
    {
     "name": "stdout",
     "output_type": "stream",
     "text": [
      "Initial List: \n",
      "[1, 2, 3, 4]\n",
      "\n",
      "List after performing Insert Operation: \n",
      "['Geeks', 1, 2, 3, 12, 4]\n"
     ]
    }
   ],
   "source": [
    "# Python program to demonstrate \n",
    "# Addition of elements in a List \n",
    "\n",
    "# Creating a List \n",
    "List = [1,2,3,4] \n",
    "print(\"Initial List: \") \n",
    "print(List) \n",
    "\n",
    "# Addition of Element at \n",
    "# specific Position \n",
    "# (using Insert Method) \n",
    "List.insert(3, 12) \n",
    "List.insert(0, 'Geeks') \n",
    "print(\"\\nList after performing Insert Operation: \") \n",
    "print(List) \n"
   ]
  },
  {
   "cell_type": "code",
   "execution_count": 5,
   "metadata": {},
   "outputs": [
    {
     "name": "stdout",
     "output_type": "stream",
     "text": [
      "Initial List: \n",
      "[1, 2, 3, 4]\n",
      "\n",
      "List after performing Extend Operation: \n",
      "[1, 2, 3, 4, 8, 'Geeks', 'Always']\n"
     ]
    }
   ],
   "source": [
    "# Python program to demonstrate \n",
    "# Addition of elements in a List \n",
    "\t\n",
    "# Creating a List \n",
    "List = [1,2,3,4] \n",
    "print(\"Initial List: \") \n",
    "print(List) \n",
    "\n",
    "# Addition of multiple elements \n",
    "# to the List at the end \n",
    "# (using Extend Method) \n",
    "List.extend([8, 'Geeks', 'Always']) \n",
    "print(\"\\nList after performing Extend Operation: \") \n",
    "print(List) \n"
   ]
  },
  {
   "cell_type": "code",
   "execution_count": 6,
   "metadata": {},
   "outputs": [
    {
     "name": "stdout",
     "output_type": "stream",
     "text": [
      "Accessing a element from the list\n",
      "Geeks\n",
      "Geeks\n",
      "Acessing a element from a Multi-Dimensional list\n",
      "For\n",
      "Geeks\n"
     ]
    }
   ],
   "source": [
    "# Python program to demonstrate \n",
    "# accessing of element from list \n",
    "\n",
    "# Creating a List with \n",
    "# the use of multiple values \n",
    "List = [\"Geeks\", \"For\", \"Geeks\"] \n",
    "\n",
    "# accessing a element from the \n",
    "# list using index number \n",
    "print(\"Accessing a element from the list\") \n",
    "print(List[0]) \n",
    "print(List[2]) \n",
    "\n",
    "# Creating a Multi-Dimensional List \n",
    "# (By Nesting a list inside a List) \n",
    "List = [['Geeks', 'For'] , ['Geeks']] \n",
    "\n",
    "# accessing an element from the \n",
    "# Multi-Dimensional List using \n",
    "# index number \n",
    "print(\"Acessing a element from a Multi-Dimensional list\") \n",
    "print(List[0][1]) \n",
    "print(List[1][0]) \n"
   ]
  },
  {
   "cell_type": "code",
   "execution_count": 7,
   "metadata": {},
   "outputs": [
    {
     "name": "stdout",
     "output_type": "stream",
     "text": [
      "Accessing element using negative indexing\n",
      "Geeks\n",
      "For\n"
     ]
    }
   ],
   "source": [
    "List = [1, 2, 'Geeks', 4, 'For', 6, 'Geeks'] \n",
    "\n",
    "# accessing a element using \n",
    "# negative indexing \n",
    "print(\"Accessing element using negative indexing\") \n",
    "\n",
    "# print the last element of list \n",
    "print(List[-1]) \n",
    "\n",
    "# print the third last element of list \n",
    "print(List[-3]) \n"
   ]
  },
  {
   "cell_type": "code",
   "execution_count": 8,
   "metadata": {},
   "outputs": [
    {
     "name": "stdout",
     "output_type": "stream",
     "text": [
      "Accessing element using negative indexing\n",
      "Geeks\n",
      "For\n"
     ]
    }
   ],
   "source": [
    "List = [1, 2, 'Geeks', 4, 'For', 6, 'Geeks'] \n",
    "\n",
    "# accessing a element using \n",
    "# negative indexing \n",
    "print(\"Accessing element using negative indexing\") \n",
    "\n",
    "# print the last element of list \n",
    "print(List[-1]) \n",
    "\n",
    "# print the third last element of list \n",
    "print(List[-3]) \n"
   ]
  },
  {
   "cell_type": "code",
   "execution_count": 9,
   "metadata": {},
   "outputs": [
    {
     "name": "stdout",
     "output_type": "stream",
     "text": [
      "Intial List: \n",
      "[1, 2, 3, 4, 5, 6, 7, 8, 9, 10, 11, 12]\n",
      "\n",
      "List after Removal of two elements: \n",
      "[1, 2, 3, 4, 7, 8, 9, 10, 11, 12]\n",
      "\n",
      "List after Removing a range of elements: \n",
      "[7, 8, 9, 10, 11, 12]\n"
     ]
    }
   ],
   "source": [
    "# Python program to demonstrate \n",
    "# Removal of elements in a List \n",
    "\n",
    "# Creating a List \n",
    "List = [1, 2, 3, 4, 5, 6, \n",
    "\t\t7, 8, 9, 10, 11, 12] \n",
    "print(\"Intial List: \") \n",
    "print(List) \n",
    "\n",
    "# Removing elements from List \n",
    "# using Remove() method \n",
    "List.remove(5) \n",
    "List.remove(6) \n",
    "print(\"\\nList after Removal of two elements: \") \n",
    "print(List) \n",
    "\n",
    "# Removing elements from List \n",
    "# using iterator method \n",
    "for i in range(1, 5): \n",
    "\tList.remove(i) \n",
    "print(\"\\nList after Removing a range of elements: \") \n",
    "print(List) \n"
   ]
  },
  {
   "cell_type": "code",
   "execution_count": 10,
   "metadata": {},
   "outputs": [
    {
     "name": "stdout",
     "output_type": "stream",
     "text": [
      "\n",
      "List after popping an element: \n",
      "[1, 2, 3, 4]\n",
      "\n",
      "List after popping a specific element: \n",
      "[1, 2, 4]\n"
     ]
    }
   ],
   "source": [
    "List = [1,2,3,4,5] \n",
    "\n",
    "# Removing element from the \n",
    "# Set using the pop() method \n",
    "List.pop() \n",
    "print(\"\\nList after popping an element: \") \n",
    "print(List) \n",
    "\n",
    "# Removing element at a \n",
    "# specific location from the \n",
    "# Set using the pop() method \n",
    "List.pop(2) \n",
    "print(\"\\nList after popping a specific element: \") \n",
    "print(List) \n"
   ]
  },
  {
   "cell_type": "code",
   "execution_count": 11,
   "metadata": {},
   "outputs": [
    {
     "name": "stdout",
     "output_type": "stream",
     "text": [
      "Intial List: \n",
      "['G', 'E', 'E', 'K', 'S', 'F', 'O', 'R', 'G', 'E', 'E', 'K', 'S']\n",
      "\n",
      "Slicing elements in a range 3-8: \n",
      "['K', 'S', 'F', 'O', 'R']\n",
      "\n",
      "Elements sliced from 5th element till the end: \n",
      "['F', 'O', 'R', 'G', 'E', 'E', 'K', 'S']\n",
      "\n",
      "Printing all elements using slice operation: \n",
      "['G', 'E', 'E', 'K', 'S', 'F', 'O', 'R', 'G', 'E', 'E', 'K', 'S']\n"
     ]
    }
   ],
   "source": [
    "# Python program to demonstrate \n",
    "# Removal of elements in a List \n",
    "\n",
    "# Creating a List \n",
    "List = ['G','E','E','K','S','F', \n",
    "\t\t'O','R','G','E','E','K','S'] \n",
    "print(\"Intial List: \") \n",
    "print(List) \n",
    "\n",
    "# Print elements of a range \n",
    "# using Slice operation \n",
    "Sliced_List = List[3:8] \n",
    "print(\"\\nSlicing elements in a range 3-8: \") \n",
    "print(Sliced_List) \n",
    "\n",
    "# Print elements from a \n",
    "# pre-defined point to end \n",
    "Sliced_List = List[5:] \n",
    "print(\"\\nElements sliced from 5th \"\n",
    "\t\"element till the end: \") \n",
    "print(Sliced_List) \n",
    "\n",
    "# Printing elements from \n",
    "# beginning till end \n",
    "Sliced_List = List[:] \n",
    "print(\"\\nPrinting all elements using slice operation: \") \n",
    "print(Sliced_List) \n"
   ]
  },
  {
   "cell_type": "code",
   "execution_count": 12,
   "metadata": {},
   "outputs": [
    {
     "name": "stdout",
     "output_type": "stream",
     "text": [
      "Initial List: \n",
      "['G', 'E', 'E', 'K', 'S', 'F', 'O', 'R', 'G', 'E', 'E', 'K', 'S']\n",
      "\n",
      "Elements sliced till 6th element from last: \n",
      "['G', 'E', 'E', 'K', 'S', 'F', 'O']\n",
      "\n",
      "Elements sliced from index -6 to -1\n",
      "['R', 'G', 'E', 'E', 'K']\n",
      "\n",
      "Printing List in reverse: \n",
      "['S', 'K', 'E', 'E', 'G', 'R', 'O', 'F', 'S', 'K', 'E', 'E', 'G']\n"
     ]
    }
   ],
   "source": [
    "# Creating a List \n",
    "List = ['G','E','E','K','S','F', \n",
    "\t\t'O','R','G','E','E','K','S'] \n",
    "print(\"Initial List: \") \n",
    "print(List) \n",
    "\n",
    "# Print elements from beginning \n",
    "# to a pre-defined point using Slice \n",
    "Sliced_List = List[:-6] \n",
    "print(\"\\nElements sliced till 6th element from last: \") \n",
    "print(Sliced_List) \n",
    "\n",
    "# Print elements of a range \n",
    "# using negative index List slicing \n",
    "Sliced_List = List[-6:-1] \n",
    "print(\"\\nElements sliced from index -6 to -1\") \n",
    "print(Sliced_List) \n",
    "\n",
    "# Printing elements in reverse \n",
    "# using Slice operation \n",
    "Sliced_List = List[::-1] \n",
    "print(\"\\nPrinting List in reverse: \") \n",
    "print(Sliced_List) \n"
   ]
  },
  {
   "cell_type": "markdown",
   "metadata": {},
   "source": [
    "https://www.geeksforgeeks.org/python-list/"
   ]
  },
  {
   "cell_type": "markdown",
   "metadata": {},
   "source": [
    "reference geeks for geeks "
   ]
  },
  {
   "cell_type": "code",
   "execution_count": null,
   "metadata": {},
   "outputs": [],
   "source": []
  }
 ],
 "metadata": {
  "kernelspec": {
   "display_name": "Python 3",
   "language": "python",
   "name": "python3"
  },
  "language_info": {
   "codemirror_mode": {
    "name": "ipython",
    "version": 3
   },
   "file_extension": ".py",
   "mimetype": "text/x-python",
   "name": "python",
   "nbconvert_exporter": "python",
   "pygments_lexer": "ipython3",
   "version": "3.7.6"
  }
 },
 "nbformat": 4,
 "nbformat_minor": 4
}
