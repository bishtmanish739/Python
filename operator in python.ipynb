{
 "cells": [
  {
   "cell_type": "code",
   "execution_count": 1,
   "metadata": {},
   "outputs": [],
   "source": [
    "##Arithmetic operators\n",
    "##Assignment operators\n",
    "##Comparison operators\n",
    "##Logical operators\n",
    "##Identity operators\n",
    "##Membership operators\n",
    "##Bitwise operators\n"
   ]
  },
  {
   "cell_type": "code",
   "execution_count": 3,
   "metadata": {},
   "outputs": [
    {
     "name": "stdout",
     "output_type": "stream",
     "text": [
      "17\n",
      "7\n",
      "60\n",
      "2.4\n",
      "2\n",
      "248832\n",
      "2\n"
     ]
    }
   ],
   "source": [
    "##Arithmetic operators\n",
    "\n",
    "x=12\n",
    "y=5\n",
    "print(x+y) #addition\n",
    "print(x-y) #subtraction\n",
    "print(x*y) ##multiplication\n",
    "print(x/y) ##division\n",
    "print(x%y) ##modulus\n",
    "print(x**y) ##exponential\n",
    "print(x//y) ##floor division"
   ]
  },
  {
   "cell_type": "code",
   "execution_count": 34,
   "metadata": {},
   "outputs": [
    {
     "name": "stdout",
     "output_type": "stream",
     "text": [
      "125\n",
      "5\n",
      "7\n",
      "0\n"
     ]
    }
   ],
   "source": [
    "##Assignment operators\n",
    "## =,+=,-=,*=,/=,%=,**=,//=,&=,|=,^=,>>=,<<=,\n",
    "\n",
    "##x+=3;\n",
    "x=5;\n",
    "x **= 3\n",
    "\n",
    "print(x)\n",
    "\n",
    "x &= 3\n",
    "\n",
    "x=5\n",
    "print(x)\n",
    "x |= 3  ## means 101|011=111\n",
    "\n",
    "print(x)\n",
    "\n",
    "##^=3 mean x = x ^ 3 xor with 3\n",
    "x=5;\n",
    "x^=x\n",
    "print(x)"
   ]
  },
  {
   "cell_type": "code",
   "execution_count": 11,
   "metadata": {},
   "outputs": [],
   "source": [
    "##Python Comparison Operators\n",
    "##==,>=,<=,<,>,!=\n",
    "##mostly used in conditional statement \n",
    "##and result either true or false \n",
    "\n"
   ]
  },
  {
   "cell_type": "code",
   "execution_count": 17,
   "metadata": {},
   "outputs": [
    {
     "name": "stdout",
     "output_type": "stream",
     "text": [
      "inside condition\n"
     ]
    }
   ],
   "source": [
    "##Python Logical Operators\n",
    "\n",
    "##and, or,not\n",
    "x=5\n",
    "y=6\n",
    "if (x>4 and y>x):\n",
    "    print(\"inside condition\")"
   ]
  },
  {
   "cell_type": "code",
   "execution_count": 21,
   "metadata": {},
   "outputs": [
    {
     "name": "stdout",
     "output_type": "stream",
     "text": [
      "True\n",
      "False\n",
      "True\n",
      "True\n"
     ]
    }
   ],
   "source": [
    "##Python Identity Operators \n",
    "## is, is not\n",
    "##example \n",
    "\n",
    "x = [\"apple\", \"banana\"]\n",
    "y = [\"apple\", \"banana\"]\n",
    "z = x\n",
    "\n",
    "print(x is z)\n",
    "\n",
    "# returns True because z is the same object as x\n",
    "\n",
    "print(x is y)\n",
    "\n",
    "# returns False because x is not the same object as y, even if they have the same content\n",
    "\n",
    "print(x == y)\n",
    "\n",
    "# to demonstrate the difference betweeen \"is\" and \"==\": this comparison returns True because x is equal to y\n",
    "print(x is not y) ##because x and y are differe variable though their value are same.we can say x and y are not same but their value are same \n",
    "\n",
    "\n"
   ]
  },
  {
   "cell_type": "code",
   "execution_count": 25,
   "metadata": {},
   "outputs": [
    {
     "name": "stdout",
     "output_type": "stream",
     "text": [
      "True\n",
      "True\n",
      "False\n"
     ]
    }
   ],
   "source": [
    "##Python Membership Operators\n",
    "## in, not in\n",
    "x= [\"apple\", \"banana\"]\n",
    "\n",
    "print(\"banana\" in x)\n",
    "\n",
    "# returns True because a sequence with the value \"banana\" is in the list\n",
    "\n",
    "print(\"ajkda\" not in x)\n",
    "##return true because this string not in x\n",
    "print(\"fakjdksa\" in x) \n",
    "##return false because this string not in x"
   ]
  },
  {
   "cell_type": "code",
   "execution_count": 41,
   "metadata": {},
   "outputs": [
    {
     "name": "stdout",
     "output_type": "stream",
     "text": [
      "4\n",
      "7\n",
      "3\n",
      "-6\n",
      "0\n",
      "320\n"
     ]
    }
   ],
   "source": [
    "##Python Bitwise Operators\n",
    "\n",
    "##& \tAND\tSets each bit to 1 if both bits are 1\n",
    "## |\tOR\tSets each bit to 1 if one of two bits is 1\n",
    "## ^\tXOR\tSets each bit to 1 if only one of two bits is 1\n",
    "## ~ \tNOT\tInverts all the bits\n",
    "## <<\tZero fill left shift\tShift left by pushing zeros in from the right and let the leftmost bits fall off\n",
    "## >>\tSigned right shift\tShift right by pushing copies of the leftmost bit in from the left, and let the rightmost bits fall off\n",
    "x=5\n",
    "y=6\n",
    "print(x&y)\n",
    "print(x|y)\n",
    "print(x^y)\n",
    "print(~x)\n",
    "print(x>>y)\n",
    "print(x<<y) ##every time multiply by to\n"
   ]
  },
  {
   "cell_type": "code",
   "execution_count": null,
   "metadata": {},
   "outputs": [],
   "source": []
  }
 ],
 "metadata": {
  "kernelspec": {
   "display_name": "Python 3",
   "language": "python",
   "name": "python3"
  },
  "language_info": {
   "codemirror_mode": {
    "name": "ipython",
    "version": 3
   },
   "file_extension": ".py",
   "mimetype": "text/x-python",
   "name": "python",
   "nbconvert_exporter": "python",
   "pygments_lexer": "ipython3",
   "version": "3.7.6"
  }
 },
 "nbformat": 4,
 "nbformat_minor": 4
}
