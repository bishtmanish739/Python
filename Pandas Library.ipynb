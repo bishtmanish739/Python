{
 "cells": [
  {
   "cell_type": "code",
   "execution_count": 3,
   "metadata": {},
   "outputs": [
    {
     "data": {
      "text/plain": [
       "'Pandas DataFrames\\nPandas is a high-level data manipulation tool developed by Wes McKinney. It is built on the Numpy package and its key data structure is called the DataFrame. \\nDataFrames allow you to store and manipulate tabular data in rows of observations and columns of variables.'"
      ]
     },
     "execution_count": 3,
     "metadata": {},
     "output_type": "execute_result"
    }
   ],
   "source": [
    "\"\"\"Pandas DataFrames\n",
    "Pandas is a high-level data manipulation tool developed by Wes McKinney. It is built on the Numpy package and its key data structure is called the DataFrame. \n",
    "DataFrames allow you to store and manipulate tabular data in rows of observations and columns of variables.\"\"\""
   ]
  },
  {
   "cell_type": "code",
   "execution_count": 4,
   "metadata": {},
   "outputs": [],
   "source": [
    "import pandas as pd"
   ]
  },
  {
   "cell_type": "code",
   "execution_count": 6,
   "metadata": {},
   "outputs": [],
   "source": [
    "s1=pd.Series([1,3,4,4,5])"
   ]
  },
  {
   "cell_type": "code",
   "execution_count": 7,
   "metadata": {},
   "outputs": [
    {
     "data": {
      "text/plain": [
       "0    1\n",
       "1    3\n",
       "2    4\n",
       "3    4\n",
       "4    5\n",
       "dtype: int64"
      ]
     },
     "execution_count": 7,
     "metadata": {},
     "output_type": "execute_result"
    }
   ],
   "source": [
    "s1"
   ]
  },
  {
   "cell_type": "code",
   "execution_count": 8,
   "metadata": {},
   "outputs": [
    {
     "data": {
      "text/plain": [
       "pandas.core.series.Series"
      ]
     },
     "execution_count": 8,
     "metadata": {},
     "output_type": "execute_result"
    }
   ],
   "source": [
    " type(s1)"
   ]
  },
  {
   "cell_type": "code",
   "execution_count": 11,
   "metadata": {},
   "outputs": [
    {
     "data": {
      "text/plain": [
       "a    1\n",
       "b    3\n",
       "c    4\n",
       "d    4\n",
       "e    5\n",
       "dtype: int64"
      ]
     },
     "execution_count": 11,
     "metadata": {},
     "output_type": "execute_result"
    }
   ],
   "source": [
    "s1=pd.Series([1,3,4,4,5],index=['a','b','c','d','e'])\n",
    "s1"
   ]
  },
  {
   "cell_type": "code",
   "execution_count": 12,
   "metadata": {},
   "outputs": [],
   "source": [
    "s2=pd.Series({'k2':1,'k3':4})"
   ]
  },
  {
   "cell_type": "code",
   "execution_count": 13,
   "metadata": {},
   "outputs": [
    {
     "data": {
      "text/plain": [
       "k2    1\n",
       "k3    4\n",
       "dtype: int64"
      ]
     },
     "execution_count": 13,
     "metadata": {},
     "output_type": "execute_result"
    }
   ],
   "source": [
    "s2"
   ]
  },
  {
   "cell_type": "code",
   "execution_count": 15,
   "metadata": {},
   "outputs": [
    {
     "data": {
      "text/plain": [
       "4"
      ]
     },
     "execution_count": 15,
     "metadata": {},
     "output_type": "execute_result"
    }
   ],
   "source": [
    "s2['k3']"
   ]
  },
  {
   "cell_type": "code",
   "execution_count": 17,
   "metadata": {},
   "outputs": [
    {
     "data": {
      "text/plain": [
       "1"
      ]
     },
     "execution_count": 17,
     "metadata": {},
     "output_type": "execute_result"
    }
   ],
   "source": [
    "s2['k2']"
   ]
  },
  {
   "cell_type": "code",
   "execution_count": 18,
   "metadata": {},
   "outputs": [],
   "source": [
    "l1=pd.Series([1,2,3,4,5,6,6,7])"
   ]
  },
  {
   "cell_type": "code",
   "execution_count": 19,
   "metadata": {},
   "outputs": [
    {
     "data": {
      "text/plain": [
       "0    1\n",
       "1    2\n",
       "2    3\n",
       "3    4\n",
       "4    5\n",
       "5    6\n",
       "6    6\n",
       "7    7\n",
       "dtype: int64"
      ]
     },
     "execution_count": 19,
     "metadata": {},
     "output_type": "execute_result"
    }
   ],
   "source": [
    "l1"
   ]
  },
  {
   "cell_type": "code",
   "execution_count": 20,
   "metadata": {},
   "outputs": [
    {
     "data": {
      "text/plain": [
       "0    1\n",
       "1    2\n",
       "2    3\n",
       "3    4\n",
       "dtype: int64"
      ]
     },
     "execution_count": 20,
     "metadata": {},
     "output_type": "execute_result"
    }
   ],
   "source": [
    "l1[:4]"
   ]
  },
  {
   "cell_type": "code",
   "execution_count": 23,
   "metadata": {},
   "outputs": [
    {
     "data": {
      "text/plain": [
       "5    6\n",
       "6    6\n",
       "7    7\n",
       "dtype: int64"
      ]
     },
     "execution_count": 23,
     "metadata": {},
     "output_type": "execute_result"
    }
   ],
   "source": [
    "l1[-3:]"
   ]
  },
  {
   "cell_type": "code",
   "execution_count": 26,
   "metadata": {},
   "outputs": [],
   "source": [
    "l2=pd.Series([1,2,3,4,5,6,6,33,33])"
   ]
  },
  {
   "cell_type": "code",
   "execution_count": 27,
   "metadata": {},
   "outputs": [
    {
     "data": {
      "text/plain": [
       "0     2.0\n",
       "1     4.0\n",
       "2     6.0\n",
       "3     8.0\n",
       "4    10.0\n",
       "5    12.0\n",
       "6    12.0\n",
       "7    40.0\n",
       "8     NaN\n",
       "dtype: float64"
      ]
     },
     "execution_count": 27,
     "metadata": {},
     "output_type": "execute_result"
    }
   ],
   "source": [
    "l1+l2"
   ]
  },
  {
   "cell_type": "code",
   "execution_count": 28,
   "metadata": {},
   "outputs": [
    {
     "data": {
      "text/plain": [
       "0      1.0\n",
       "1      4.0\n",
       "2      9.0\n",
       "3     16.0\n",
       "4     25.0\n",
       "5     36.0\n",
       "6     36.0\n",
       "7    231.0\n",
       "8      NaN\n",
       "dtype: float64"
      ]
     },
     "execution_count": 28,
     "metadata": {},
     "output_type": "execute_result"
    }
   ],
   "source": [
    "l1*l2"
   ]
  },
  {
   "cell_type": "code",
   "execution_count": 29,
   "metadata": {},
   "outputs": [
    {
     "data": {
      "text/plain": [
       "0    11\n",
       "1    12\n",
       "2    13\n",
       "3    14\n",
       "4    15\n",
       "5    16\n",
       "6    16\n",
       "7    17\n",
       "dtype: int64"
      ]
     },
     "execution_count": 29,
     "metadata": {},
     "output_type": "execute_result"
    }
   ],
   "source": [
    "l1+10"
   ]
  },
  {
   "cell_type": "code",
   "execution_count": 30,
   "metadata": {},
   "outputs": [
    {
     "data": {
      "text/plain": [
       "0    0.0\n",
       "1    0.0\n",
       "2    0.0\n",
       "3    0.0\n",
       "4    0.0\n",
       "5    0.0\n",
       "6    0.0\n",
       "7    7.0\n",
       "8    NaN\n",
       "dtype: float64"
      ]
     },
     "execution_count": 30,
     "metadata": {},
     "output_type": "execute_result"
    }
   ],
   "source": [
    "l1%l2"
   ]
  },
  {
   "cell_type": "code",
   "execution_count": 31,
   "metadata": {},
   "outputs": [
    {
     "data": {
      "text/plain": [
       "0    1.000000\n",
       "1    1.000000\n",
       "2    1.000000\n",
       "3    1.000000\n",
       "4    1.000000\n",
       "5    1.000000\n",
       "6    1.000000\n",
       "7    0.212121\n",
       "8         NaN\n",
       "dtype: float64"
      ]
     },
     "execution_count": 31,
     "metadata": {},
     "output_type": "execute_result"
    }
   ],
   "source": [
    "l1/l2"
   ]
  },
  {
   "cell_type": "code",
   "execution_count": 32,
   "metadata": {},
   "outputs": [],
   "source": [
    "##create data frame"
   ]
  },
  {
   "cell_type": "code",
   "execution_count": 33,
   "metadata": {},
   "outputs": [],
   "source": [
    "import pandas as pd"
   ]
  },
  {
   "cell_type": "code",
   "execution_count": 34,
   "metadata": {},
   "outputs": [],
   "source": [
    "dataframe=pd.DataFrame({'name':['John','bob','boby'],'marks':[10,20,30]})"
   ]
  },
  {
   "cell_type": "code",
   "execution_count": 35,
   "metadata": {},
   "outputs": [
    {
     "data": {
      "text/html": [
       "<div>\n",
       "<style scoped>\n",
       "    .dataframe tbody tr th:only-of-type {\n",
       "        vertical-align: middle;\n",
       "    }\n",
       "\n",
       "    .dataframe tbody tr th {\n",
       "        vertical-align: top;\n",
       "    }\n",
       "\n",
       "    .dataframe thead th {\n",
       "        text-align: right;\n",
       "    }\n",
       "</style>\n",
       "<table border=\"1\" class=\"dataframe\">\n",
       "  <thead>\n",
       "    <tr style=\"text-align: right;\">\n",
       "      <th></th>\n",
       "      <th>name</th>\n",
       "      <th>marks</th>\n",
       "    </tr>\n",
       "  </thead>\n",
       "  <tbody>\n",
       "    <tr>\n",
       "      <th>0</th>\n",
       "      <td>John</td>\n",
       "      <td>10</td>\n",
       "    </tr>\n",
       "    <tr>\n",
       "      <th>1</th>\n",
       "      <td>bob</td>\n",
       "      <td>20</td>\n",
       "    </tr>\n",
       "    <tr>\n",
       "      <th>2</th>\n",
       "      <td>boby</td>\n",
       "      <td>30</td>\n",
       "    </tr>\n",
       "  </tbody>\n",
       "</table>\n",
       "</div>"
      ],
      "text/plain": [
       "   name  marks\n",
       "0  John     10\n",
       "1   bob     20\n",
       "2  boby     30"
      ]
     },
     "execution_count": 35,
     "metadata": {},
     "output_type": "execute_result"
    }
   ],
   "source": [
    "dataframe"
   ]
  },
  {
   "cell_type": "code",
   "execution_count": 41,
   "metadata": {},
   "outputs": [
    {
     "data": {
      "text/plain": [
       "pandas.core.frame.DataFrame"
      ]
     },
     "execution_count": 41,
     "metadata": {},
     "output_type": "execute_result"
    }
   ],
   "source": [
    "type(dataframe)"
   ]
  },
  {
   "cell_type": "code",
   "execution_count": 42,
   "metadata": {},
   "outputs": [],
   "source": [
    "data=pd.read_csv('demodata.csv')"
   ]
  },
  {
   "cell_type": "code",
   "execution_count": 43,
   "metadata": {},
   "outputs": [
    {
     "data": {
      "text/html": [
       "<div>\n",
       "<style scoped>\n",
       "    .dataframe tbody tr th:only-of-type {\n",
       "        vertical-align: middle;\n",
       "    }\n",
       "\n",
       "    .dataframe tbody tr th {\n",
       "        vertical-align: top;\n",
       "    }\n",
       "\n",
       "    .dataframe thead th {\n",
       "        text-align: right;\n",
       "    }\n",
       "</style>\n",
       "<table border=\"1\" class=\"dataframe\">\n",
       "  <thead>\n",
       "    <tr style=\"text-align: right;\">\n",
       "      <th></th>\n",
       "      <th>Series reference</th>\n",
       "      <th>Period</th>\n",
       "      <th>Description</th>\n",
       "      <th>Revised</th>\n",
       "      <th>Initially published</th>\n",
       "    </tr>\n",
       "  </thead>\n",
       "  <tbody>\n",
       "    <tr>\n",
       "      <th>0</th>\n",
       "      <td>2019.09</td>\n",
       "      <td>PPIQ.SQN800000</td>\n",
       "      <td>All industries excl admin health educati, Inpu...</td>\n",
       "      <td>1167</td>\n",
       "      <td>1164</td>\n",
       "    </tr>\n",
       "    <tr>\n",
       "      <th>1</th>\n",
       "      <td>2019.12</td>\n",
       "      <td>PPIQ.SQN800000</td>\n",
       "      <td>All industries excl admin health educati, Inpu...</td>\n",
       "      <td>1170</td>\n",
       "      <td>1166</td>\n",
       "    </tr>\n",
       "    <tr>\n",
       "      <th>2</th>\n",
       "      <td>2019.09</td>\n",
       "      <td>PPIQ.SQN800001</td>\n",
       "      <td>All industries ex admin health edu OOD, Inputs...</td>\n",
       "      <td>1167</td>\n",
       "      <td>1164</td>\n",
       "    </tr>\n",
       "    <tr>\n",
       "      <th>3</th>\n",
       "      <td>2019.12</td>\n",
       "      <td>PPIQ.SQN800001</td>\n",
       "      <td>All industries ex admin health edu OOD, Inputs...</td>\n",
       "      <td>1170</td>\n",
       "      <td>1166</td>\n",
       "    </tr>\n",
       "    <tr>\n",
       "      <th>4</th>\n",
       "      <td>2019.09</td>\n",
       "      <td>PPIQ.SQN900000</td>\n",
       "      <td>All industries, Inputs Indexes (Level 0)</td>\n",
       "      <td>1166</td>\n",
       "      <td>1164</td>\n",
       "    </tr>\n",
       "    <tr>\n",
       "      <th>...</th>\n",
       "      <td>...</td>\n",
       "      <td>...</td>\n",
       "      <td>...</td>\n",
       "      <td>...</td>\n",
       "      <td>...</td>\n",
       "    </tr>\n",
       "    <tr>\n",
       "      <th>62</th>\n",
       "      <td>2019.12</td>\n",
       "      <td>PPIQ.SQUCC1300</td>\n",
       "      <td>Dairy Product Manufacturing, Outputs Indexes (...</td>\n",
       "      <td>1220</td>\n",
       "      <td>1217</td>\n",
       "    </tr>\n",
       "    <tr>\n",
       "      <th>63</th>\n",
       "      <td>2019.09</td>\n",
       "      <td>PPIQ.SQUCC1310</td>\n",
       "      <td>Dairy Product Manufacturing, Outputs Indexes (...</td>\n",
       "      <td>1243</td>\n",
       "      <td>1241</td>\n",
       "    </tr>\n",
       "    <tr>\n",
       "      <th>64</th>\n",
       "      <td>2019.12</td>\n",
       "      <td>PPIQ.SQUCC1310</td>\n",
       "      <td>Dairy Product Manufacturing, Outputs Indexes (...</td>\n",
       "      <td>1220</td>\n",
       "      <td>1217</td>\n",
       "    </tr>\n",
       "    <tr>\n",
       "      <th>65</th>\n",
       "      <td>2019.12</td>\n",
       "      <td>PPIQ.SQUCC3200</td>\n",
       "      <td>Pulp, Paper and Converted Paper Product, Outpu...</td>\n",
       "      <td>1015</td>\n",
       "      <td>1014</td>\n",
       "    </tr>\n",
       "    <tr>\n",
       "      <th>66</th>\n",
       "      <td>2019.12</td>\n",
       "      <td>PPIQ.SQUCC3210</td>\n",
       "      <td>Pulp, Paper and Converted Paper Product Manufa...</td>\n",
       "      <td>1015</td>\n",
       "      <td>1014</td>\n",
       "    </tr>\n",
       "  </tbody>\n",
       "</table>\n",
       "<p>67 rows × 5 columns</p>\n",
       "</div>"
      ],
      "text/plain": [
       "    Series reference          Period  \\\n",
       "0            2019.09  PPIQ.SQN800000   \n",
       "1            2019.12  PPIQ.SQN800000   \n",
       "2            2019.09  PPIQ.SQN800001   \n",
       "3            2019.12  PPIQ.SQN800001   \n",
       "4            2019.09  PPIQ.SQN900000   \n",
       "..               ...             ...   \n",
       "62           2019.12  PPIQ.SQUCC1300   \n",
       "63           2019.09  PPIQ.SQUCC1310   \n",
       "64           2019.12  PPIQ.SQUCC1310   \n",
       "65           2019.12  PPIQ.SQUCC3200   \n",
       "66           2019.12  PPIQ.SQUCC3210   \n",
       "\n",
       "                                          Description  Revised  \\\n",
       "0   All industries excl admin health educati, Inpu...     1167   \n",
       "1   All industries excl admin health educati, Inpu...     1170   \n",
       "2   All industries ex admin health edu OOD, Inputs...     1167   \n",
       "3   All industries ex admin health edu OOD, Inputs...     1170   \n",
       "4            All industries, Inputs Indexes (Level 0)     1166   \n",
       "..                                                ...      ...   \n",
       "62  Dairy Product Manufacturing, Outputs Indexes (...     1220   \n",
       "63  Dairy Product Manufacturing, Outputs Indexes (...     1243   \n",
       "64  Dairy Product Manufacturing, Outputs Indexes (...     1220   \n",
       "65  Pulp, Paper and Converted Paper Product, Outpu...     1015   \n",
       "66  Pulp, Paper and Converted Paper Product Manufa...     1015   \n",
       "\n",
       "    Initially published  \n",
       "0                  1164  \n",
       "1                  1166  \n",
       "2                  1164  \n",
       "3                  1166  \n",
       "4                  1164  \n",
       "..                  ...  \n",
       "62                 1217  \n",
       "63                 1241  \n",
       "64                 1217  \n",
       "65                 1014  \n",
       "66                 1014  \n",
       "\n",
       "[67 rows x 5 columns]"
      ]
     },
     "execution_count": 43,
     "metadata": {},
     "output_type": "execute_result"
    }
   ],
   "source": [
    "data"
   ]
  },
  {
   "cell_type": "code",
   "execution_count": 44,
   "metadata": {},
   "outputs": [
    {
     "data": {
      "text/html": [
       "<div>\n",
       "<style scoped>\n",
       "    .dataframe tbody tr th:only-of-type {\n",
       "        vertical-align: middle;\n",
       "    }\n",
       "\n",
       "    .dataframe tbody tr th {\n",
       "        vertical-align: top;\n",
       "    }\n",
       "\n",
       "    .dataframe thead th {\n",
       "        text-align: right;\n",
       "    }\n",
       "</style>\n",
       "<table border=\"1\" class=\"dataframe\">\n",
       "  <thead>\n",
       "    <tr style=\"text-align: right;\">\n",
       "      <th></th>\n",
       "      <th>Series reference</th>\n",
       "      <th>Period</th>\n",
       "      <th>Description</th>\n",
       "      <th>Revised</th>\n",
       "      <th>Initially published</th>\n",
       "    </tr>\n",
       "  </thead>\n",
       "  <tbody>\n",
       "    <tr>\n",
       "      <th>0</th>\n",
       "      <td>2019.09</td>\n",
       "      <td>PPIQ.SQN800000</td>\n",
       "      <td>All industries excl admin health educati, Inpu...</td>\n",
       "      <td>1167</td>\n",
       "      <td>1164</td>\n",
       "    </tr>\n",
       "    <tr>\n",
       "      <th>1</th>\n",
       "      <td>2019.12</td>\n",
       "      <td>PPIQ.SQN800000</td>\n",
       "      <td>All industries excl admin health educati, Inpu...</td>\n",
       "      <td>1170</td>\n",
       "      <td>1166</td>\n",
       "    </tr>\n",
       "    <tr>\n",
       "      <th>2</th>\n",
       "      <td>2019.09</td>\n",
       "      <td>PPIQ.SQN800001</td>\n",
       "      <td>All industries ex admin health edu OOD, Inputs...</td>\n",
       "      <td>1167</td>\n",
       "      <td>1164</td>\n",
       "    </tr>\n",
       "    <tr>\n",
       "      <th>3</th>\n",
       "      <td>2019.12</td>\n",
       "      <td>PPIQ.SQN800001</td>\n",
       "      <td>All industries ex admin health edu OOD, Inputs...</td>\n",
       "      <td>1170</td>\n",
       "      <td>1166</td>\n",
       "    </tr>\n",
       "    <tr>\n",
       "      <th>4</th>\n",
       "      <td>2019.09</td>\n",
       "      <td>PPIQ.SQN900000</td>\n",
       "      <td>All industries, Inputs Indexes (Level 0)</td>\n",
       "      <td>1166</td>\n",
       "      <td>1164</td>\n",
       "    </tr>\n",
       "  </tbody>\n",
       "</table>\n",
       "</div>"
      ],
      "text/plain": [
       "   Series reference          Period  \\\n",
       "0           2019.09  PPIQ.SQN800000   \n",
       "1           2019.12  PPIQ.SQN800000   \n",
       "2           2019.09  PPIQ.SQN800001   \n",
       "3           2019.12  PPIQ.SQN800001   \n",
       "4           2019.09  PPIQ.SQN900000   \n",
       "\n",
       "                                         Description  Revised  \\\n",
       "0  All industries excl admin health educati, Inpu...     1167   \n",
       "1  All industries excl admin health educati, Inpu...     1170   \n",
       "2  All industries ex admin health edu OOD, Inputs...     1167   \n",
       "3  All industries ex admin health edu OOD, Inputs...     1170   \n",
       "4           All industries, Inputs Indexes (Level 0)     1166   \n",
       "\n",
       "   Initially published  \n",
       "0                 1164  \n",
       "1                 1166  \n",
       "2                 1164  \n",
       "3                 1166  \n",
       "4                 1164  "
      ]
     },
     "execution_count": 44,
     "metadata": {},
     "output_type": "execute_result"
    }
   ],
   "source": [
    "data.head()"
   ]
  },
  {
   "cell_type": "code",
   "execution_count": 45,
   "metadata": {},
   "outputs": [
    {
     "data": {
      "text/html": [
       "<div>\n",
       "<style scoped>\n",
       "    .dataframe tbody tr th:only-of-type {\n",
       "        vertical-align: middle;\n",
       "    }\n",
       "\n",
       "    .dataframe tbody tr th {\n",
       "        vertical-align: top;\n",
       "    }\n",
       "\n",
       "    .dataframe thead th {\n",
       "        text-align: right;\n",
       "    }\n",
       "</style>\n",
       "<table border=\"1\" class=\"dataframe\">\n",
       "  <thead>\n",
       "    <tr style=\"text-align: right;\">\n",
       "      <th></th>\n",
       "      <th>Series reference</th>\n",
       "      <th>Period</th>\n",
       "      <th>Description</th>\n",
       "      <th>Revised</th>\n",
       "      <th>Initially published</th>\n",
       "    </tr>\n",
       "  </thead>\n",
       "  <tbody>\n",
       "    <tr>\n",
       "      <th>62</th>\n",
       "      <td>2019.12</td>\n",
       "      <td>PPIQ.SQUCC1300</td>\n",
       "      <td>Dairy Product Manufacturing, Outputs Indexes (...</td>\n",
       "      <td>1220</td>\n",
       "      <td>1217</td>\n",
       "    </tr>\n",
       "    <tr>\n",
       "      <th>63</th>\n",
       "      <td>2019.09</td>\n",
       "      <td>PPIQ.SQUCC1310</td>\n",
       "      <td>Dairy Product Manufacturing, Outputs Indexes (...</td>\n",
       "      <td>1243</td>\n",
       "      <td>1241</td>\n",
       "    </tr>\n",
       "    <tr>\n",
       "      <th>64</th>\n",
       "      <td>2019.12</td>\n",
       "      <td>PPIQ.SQUCC1310</td>\n",
       "      <td>Dairy Product Manufacturing, Outputs Indexes (...</td>\n",
       "      <td>1220</td>\n",
       "      <td>1217</td>\n",
       "    </tr>\n",
       "    <tr>\n",
       "      <th>65</th>\n",
       "      <td>2019.12</td>\n",
       "      <td>PPIQ.SQUCC3200</td>\n",
       "      <td>Pulp, Paper and Converted Paper Product, Outpu...</td>\n",
       "      <td>1015</td>\n",
       "      <td>1014</td>\n",
       "    </tr>\n",
       "    <tr>\n",
       "      <th>66</th>\n",
       "      <td>2019.12</td>\n",
       "      <td>PPIQ.SQUCC3210</td>\n",
       "      <td>Pulp, Paper and Converted Paper Product Manufa...</td>\n",
       "      <td>1015</td>\n",
       "      <td>1014</td>\n",
       "    </tr>\n",
       "  </tbody>\n",
       "</table>\n",
       "</div>"
      ],
      "text/plain": [
       "    Series reference          Period  \\\n",
       "62           2019.12  PPIQ.SQUCC1300   \n",
       "63           2019.09  PPIQ.SQUCC1310   \n",
       "64           2019.12  PPIQ.SQUCC1310   \n",
       "65           2019.12  PPIQ.SQUCC3200   \n",
       "66           2019.12  PPIQ.SQUCC3210   \n",
       "\n",
       "                                          Description  Revised  \\\n",
       "62  Dairy Product Manufacturing, Outputs Indexes (...     1220   \n",
       "63  Dairy Product Manufacturing, Outputs Indexes (...     1243   \n",
       "64  Dairy Product Manufacturing, Outputs Indexes (...     1220   \n",
       "65  Pulp, Paper and Converted Paper Product, Outpu...     1015   \n",
       "66  Pulp, Paper and Converted Paper Product Manufa...     1015   \n",
       "\n",
       "    Initially published  \n",
       "62                 1217  \n",
       "63                 1241  \n",
       "64                 1217  \n",
       "65                 1014  \n",
       "66                 1014  "
      ]
     },
     "execution_count": 45,
     "metadata": {},
     "output_type": "execute_result"
    }
   ],
   "source": [
    "data.tail()"
   ]
  },
  {
   "cell_type": "code",
   "execution_count": 47,
   "metadata": {},
   "outputs": [
    {
     "data": {
      "text/plain": [
       "(67, 5)"
      ]
     },
     "execution_count": 47,
     "metadata": {},
     "output_type": "execute_result"
    }
   ],
   "source": [
    "data.shape"
   ]
  },
  {
   "cell_type": "code",
   "execution_count": 48,
   "metadata": {},
   "outputs": [
    {
     "data": {
      "text/html": [
       "<div>\n",
       "<style scoped>\n",
       "    .dataframe tbody tr th:only-of-type {\n",
       "        vertical-align: middle;\n",
       "    }\n",
       "\n",
       "    .dataframe tbody tr th {\n",
       "        vertical-align: top;\n",
       "    }\n",
       "\n",
       "    .dataframe thead th {\n",
       "        text-align: right;\n",
       "    }\n",
       "</style>\n",
       "<table border=\"1\" class=\"dataframe\">\n",
       "  <thead>\n",
       "    <tr style=\"text-align: right;\">\n",
       "      <th></th>\n",
       "      <th>Series reference</th>\n",
       "      <th>Revised</th>\n",
       "      <th>Initially published</th>\n",
       "    </tr>\n",
       "  </thead>\n",
       "  <tbody>\n",
       "    <tr>\n",
       "      <th>count</th>\n",
       "      <td>67.000000</td>\n",
       "      <td>67.000000</td>\n",
       "      <td>67.000000</td>\n",
       "    </tr>\n",
       "    <tr>\n",
       "      <th>mean</th>\n",
       "      <td>2019.109254</td>\n",
       "      <td>1223.208955</td>\n",
       "      <td>1209.880597</td>\n",
       "    </tr>\n",
       "    <tr>\n",
       "      <th>std</th>\n",
       "      <td>0.014493</td>\n",
       "      <td>120.126390</td>\n",
       "      <td>122.416517</td>\n",
       "    </tr>\n",
       "    <tr>\n",
       "      <th>min</th>\n",
       "      <td>2019.090000</td>\n",
       "      <td>1015.000000</td>\n",
       "      <td>1014.000000</td>\n",
       "    </tr>\n",
       "    <tr>\n",
       "      <th>25%</th>\n",
       "      <td>2019.090000</td>\n",
       "      <td>1164.000000</td>\n",
       "      <td>1156.000000</td>\n",
       "    </tr>\n",
       "    <tr>\n",
       "      <th>50%</th>\n",
       "      <td>2019.120000</td>\n",
       "      <td>1207.000000</td>\n",
       "      <td>1184.000000</td>\n",
       "    </tr>\n",
       "    <tr>\n",
       "      <th>75%</th>\n",
       "      <td>2019.120000</td>\n",
       "      <td>1251.000000</td>\n",
       "      <td>1250.000000</td>\n",
       "    </tr>\n",
       "    <tr>\n",
       "      <th>max</th>\n",
       "      <td>2019.120000</td>\n",
       "      <td>1613.000000</td>\n",
       "      <td>1608.000000</td>\n",
       "    </tr>\n",
       "  </tbody>\n",
       "</table>\n",
       "</div>"
      ],
      "text/plain": [
       "       Series reference      Revised  Initially published\n",
       "count         67.000000    67.000000            67.000000\n",
       "mean        2019.109254  1223.208955          1209.880597\n",
       "std            0.014493   120.126390           122.416517\n",
       "min         2019.090000  1015.000000          1014.000000\n",
       "25%         2019.090000  1164.000000          1156.000000\n",
       "50%         2019.120000  1207.000000          1184.000000\n",
       "75%         2019.120000  1251.000000          1250.000000\n",
       "max         2019.120000  1613.000000          1608.000000"
      ]
     },
     "execution_count": 48,
     "metadata": {},
     "output_type": "execute_result"
    }
   ],
   "source": [
    "data.describe()"
   ]
  },
  {
   "cell_type": "code",
   "execution_count": 49,
   "metadata": {},
   "outputs": [
    {
     "data": {
      "text/html": [
       "<div>\n",
       "<style scoped>\n",
       "    .dataframe tbody tr th:only-of-type {\n",
       "        vertical-align: middle;\n",
       "    }\n",
       "\n",
       "    .dataframe tbody tr th {\n",
       "        vertical-align: top;\n",
       "    }\n",
       "\n",
       "    .dataframe thead th {\n",
       "        text-align: right;\n",
       "    }\n",
       "</style>\n",
       "<table border=\"1\" class=\"dataframe\">\n",
       "  <thead>\n",
       "    <tr style=\"text-align: right;\">\n",
       "      <th></th>\n",
       "      <th>Period</th>\n",
       "      <th>Description</th>\n",
       "    </tr>\n",
       "  </thead>\n",
       "  <tbody>\n",
       "    <tr>\n",
       "      <th>0</th>\n",
       "      <td>PPIQ.SQN800000</td>\n",
       "      <td>All industries excl admin health educati, Inpu...</td>\n",
       "    </tr>\n",
       "    <tr>\n",
       "      <th>1</th>\n",
       "      <td>PPIQ.SQN800000</td>\n",
       "      <td>All industries excl admin health educati, Inpu...</td>\n",
       "    </tr>\n",
       "    <tr>\n",
       "      <th>2</th>\n",
       "      <td>PPIQ.SQN800001</td>\n",
       "      <td>All industries ex admin health edu OOD, Inputs...</td>\n",
       "    </tr>\n",
       "    <tr>\n",
       "      <th>3</th>\n",
       "      <td>PPIQ.SQN800001</td>\n",
       "      <td>All industries ex admin health edu OOD, Inputs...</td>\n",
       "    </tr>\n",
       "  </tbody>\n",
       "</table>\n",
       "</div>"
      ],
      "text/plain": [
       "           Period                                        Description\n",
       "0  PPIQ.SQN800000  All industries excl admin health educati, Inpu...\n",
       "1  PPIQ.SQN800000  All industries excl admin health educati, Inpu...\n",
       "2  PPIQ.SQN800001  All industries ex admin health edu OOD, Inputs...\n",
       "3  PPIQ.SQN800001  All industries ex admin health edu OOD, Inputs..."
      ]
     },
     "execution_count": 49,
     "metadata": {},
     "output_type": "execute_result"
    }
   ],
   "source": [
    "data.iloc[0:4,1:3] ##extract data"
   ]
  },
  {
   "cell_type": "code",
   "execution_count": 54,
   "metadata": {},
   "outputs": [
    {
     "data": {
      "text/html": [
       "<div>\n",
       "<style scoped>\n",
       "    .dataframe tbody tr th:only-of-type {\n",
       "        vertical-align: middle;\n",
       "    }\n",
       "\n",
       "    .dataframe tbody tr th {\n",
       "        vertical-align: top;\n",
       "    }\n",
       "\n",
       "    .dataframe thead th {\n",
       "        text-align: right;\n",
       "    }\n",
       "</style>\n",
       "<table border=\"1\" class=\"dataframe\">\n",
       "  <thead>\n",
       "    <tr style=\"text-align: right;\">\n",
       "      <th></th>\n",
       "      <th>Revised</th>\n",
       "      <th>Period</th>\n",
       "    </tr>\n",
       "  </thead>\n",
       "  <tbody>\n",
       "    <tr>\n",
       "      <th>1</th>\n",
       "      <td>1170</td>\n",
       "      <td>PPIQ.SQN800000</td>\n",
       "    </tr>\n",
       "    <tr>\n",
       "      <th>2</th>\n",
       "      <td>1167</td>\n",
       "      <td>PPIQ.SQN800001</td>\n",
       "    </tr>\n",
       "    <tr>\n",
       "      <th>3</th>\n",
       "      <td>1170</td>\n",
       "      <td>PPIQ.SQN800001</td>\n",
       "    </tr>\n",
       "    <tr>\n",
       "      <th>4</th>\n",
       "      <td>1166</td>\n",
       "      <td>PPIQ.SQN900000</td>\n",
       "    </tr>\n",
       "    <tr>\n",
       "      <th>5</th>\n",
       "      <td>1169</td>\n",
       "      <td>PPIQ.SQN900000</td>\n",
       "    </tr>\n",
       "    <tr>\n",
       "      <th>6</th>\n",
       "      <td>1166</td>\n",
       "      <td>PPIQ.SQN900001</td>\n",
       "    </tr>\n",
       "    <tr>\n",
       "      <th>7</th>\n",
       "      <td>1169</td>\n",
       "      <td>PPIQ.SQN900001</td>\n",
       "    </tr>\n",
       "    <tr>\n",
       "      <th>8</th>\n",
       "      <td>1207</td>\n",
       "      <td>PPIQ.SQNAA0000</td>\n",
       "    </tr>\n",
       "    <tr>\n",
       "      <th>9</th>\n",
       "      <td>1217</td>\n",
       "      <td>PPIQ.SQNAA2000</td>\n",
       "    </tr>\n",
       "    <tr>\n",
       "      <th>10</th>\n",
       "      <td>1217</td>\n",
       "      <td>PPIQ.SQNAA2100</td>\n",
       "    </tr>\n",
       "  </tbody>\n",
       "</table>\n",
       "</div>"
      ],
      "text/plain": [
       "    Revised          Period\n",
       "1      1170  PPIQ.SQN800000\n",
       "2      1167  PPIQ.SQN800001\n",
       "3      1170  PPIQ.SQN800001\n",
       "4      1166  PPIQ.SQN900000\n",
       "5      1169  PPIQ.SQN900000\n",
       "6      1166  PPIQ.SQN900001\n",
       "7      1169  PPIQ.SQN900001\n",
       "8      1207  PPIQ.SQNAA0000\n",
       "9      1217  PPIQ.SQNAA2000\n",
       "10     1217  PPIQ.SQNAA2100"
      ]
     },
     "execution_count": 54,
     "metadata": {},
     "output_type": "execute_result"
    }
   ],
   "source": [
    "data.loc[1:10,(\"Revised\",\"Period\")]"
   ]
  },
  {
   "cell_type": "code",
   "execution_count": 56,
   "metadata": {},
   "outputs": [
    {
     "data": {
      "text/html": [
       "<div>\n",
       "<style scoped>\n",
       "    .dataframe tbody tr th:only-of-type {\n",
       "        vertical-align: middle;\n",
       "    }\n",
       "\n",
       "    .dataframe tbody tr th {\n",
       "        vertical-align: top;\n",
       "    }\n",
       "\n",
       "    .dataframe thead th {\n",
       "        text-align: right;\n",
       "    }\n",
       "</style>\n",
       "<table border=\"1\" class=\"dataframe\">\n",
       "  <thead>\n",
       "    <tr style=\"text-align: right;\">\n",
       "      <th></th>\n",
       "      <th>Series reference</th>\n",
       "      <th>Description</th>\n",
       "      <th>Revised</th>\n",
       "      <th>Initially published</th>\n",
       "    </tr>\n",
       "  </thead>\n",
       "  <tbody>\n",
       "    <tr>\n",
       "      <th>0</th>\n",
       "      <td>2019.09</td>\n",
       "      <td>All industries excl admin health educati, Inpu...</td>\n",
       "      <td>1167</td>\n",
       "      <td>1164</td>\n",
       "    </tr>\n",
       "    <tr>\n",
       "      <th>1</th>\n",
       "      <td>2019.12</td>\n",
       "      <td>All industries excl admin health educati, Inpu...</td>\n",
       "      <td>1170</td>\n",
       "      <td>1166</td>\n",
       "    </tr>\n",
       "    <tr>\n",
       "      <th>2</th>\n",
       "      <td>2019.09</td>\n",
       "      <td>All industries ex admin health edu OOD, Inputs...</td>\n",
       "      <td>1167</td>\n",
       "      <td>1164</td>\n",
       "    </tr>\n",
       "    <tr>\n",
       "      <th>3</th>\n",
       "      <td>2019.12</td>\n",
       "      <td>All industries ex admin health edu OOD, Inputs...</td>\n",
       "      <td>1170</td>\n",
       "      <td>1166</td>\n",
       "    </tr>\n",
       "    <tr>\n",
       "      <th>4</th>\n",
       "      <td>2019.09</td>\n",
       "      <td>All industries, Inputs Indexes (Level 0)</td>\n",
       "      <td>1166</td>\n",
       "      <td>1164</td>\n",
       "    </tr>\n",
       "    <tr>\n",
       "      <th>...</th>\n",
       "      <td>...</td>\n",
       "      <td>...</td>\n",
       "      <td>...</td>\n",
       "      <td>...</td>\n",
       "    </tr>\n",
       "    <tr>\n",
       "      <th>62</th>\n",
       "      <td>2019.12</td>\n",
       "      <td>Dairy Product Manufacturing, Outputs Indexes (...</td>\n",
       "      <td>1220</td>\n",
       "      <td>1217</td>\n",
       "    </tr>\n",
       "    <tr>\n",
       "      <th>63</th>\n",
       "      <td>2019.09</td>\n",
       "      <td>Dairy Product Manufacturing, Outputs Indexes (...</td>\n",
       "      <td>1243</td>\n",
       "      <td>1241</td>\n",
       "    </tr>\n",
       "    <tr>\n",
       "      <th>64</th>\n",
       "      <td>2019.12</td>\n",
       "      <td>Dairy Product Manufacturing, Outputs Indexes (...</td>\n",
       "      <td>1220</td>\n",
       "      <td>1217</td>\n",
       "    </tr>\n",
       "    <tr>\n",
       "      <th>65</th>\n",
       "      <td>2019.12</td>\n",
       "      <td>Pulp, Paper and Converted Paper Product, Outpu...</td>\n",
       "      <td>1015</td>\n",
       "      <td>1014</td>\n",
       "    </tr>\n",
       "    <tr>\n",
       "      <th>66</th>\n",
       "      <td>2019.12</td>\n",
       "      <td>Pulp, Paper and Converted Paper Product Manufa...</td>\n",
       "      <td>1015</td>\n",
       "      <td>1014</td>\n",
       "    </tr>\n",
       "  </tbody>\n",
       "</table>\n",
       "<p>67 rows × 4 columns</p>\n",
       "</div>"
      ],
      "text/plain": [
       "    Series reference                                        Description  \\\n",
       "0            2019.09  All industries excl admin health educati, Inpu...   \n",
       "1            2019.12  All industries excl admin health educati, Inpu...   \n",
       "2            2019.09  All industries ex admin health edu OOD, Inputs...   \n",
       "3            2019.12  All industries ex admin health edu OOD, Inputs...   \n",
       "4            2019.09           All industries, Inputs Indexes (Level 0)   \n",
       "..               ...                                                ...   \n",
       "62           2019.12  Dairy Product Manufacturing, Outputs Indexes (...   \n",
       "63           2019.09  Dairy Product Manufacturing, Outputs Indexes (...   \n",
       "64           2019.12  Dairy Product Manufacturing, Outputs Indexes (...   \n",
       "65           2019.12  Pulp, Paper and Converted Paper Product, Outpu...   \n",
       "66           2019.12  Pulp, Paper and Converted Paper Product Manufa...   \n",
       "\n",
       "    Revised  Initially published  \n",
       "0      1167                 1164  \n",
       "1      1170                 1166  \n",
       "2      1167                 1164  \n",
       "3      1170                 1166  \n",
       "4      1166                 1164  \n",
       "..      ...                  ...  \n",
       "62     1220                 1217  \n",
       "63     1243                 1241  \n",
       "64     1220                 1217  \n",
       "65     1015                 1014  \n",
       "66     1015                 1014  \n",
       "\n",
       "[67 rows x 4 columns]"
      ]
     },
     "execution_count": 56,
     "metadata": {},
     "output_type": "execute_result"
    }
   ],
   "source": [
    "data.drop(\"Period\",axis=1) ##axis =1 mean delete column and axis =0 mean delete row"
   ]
  },
  {
   "cell_type": "code",
   "execution_count": 57,
   "metadata": {},
   "outputs": [
    {
     "data": {
      "text/html": [
       "<div>\n",
       "<style scoped>\n",
       "    .dataframe tbody tr th:only-of-type {\n",
       "        vertical-align: middle;\n",
       "    }\n",
       "\n",
       "    .dataframe tbody tr th {\n",
       "        vertical-align: top;\n",
       "    }\n",
       "\n",
       "    .dataframe thead th {\n",
       "        text-align: right;\n",
       "    }\n",
       "</style>\n",
       "<table border=\"1\" class=\"dataframe\">\n",
       "  <thead>\n",
       "    <tr style=\"text-align: right;\">\n",
       "      <th></th>\n",
       "      <th>Series reference</th>\n",
       "      <th>Period</th>\n",
       "      <th>Description</th>\n",
       "      <th>Revised</th>\n",
       "      <th>Initially published</th>\n",
       "    </tr>\n",
       "  </thead>\n",
       "  <tbody>\n",
       "    <tr>\n",
       "      <th>0</th>\n",
       "      <td>2019.09</td>\n",
       "      <td>PPIQ.SQN800000</td>\n",
       "      <td>All industries excl admin health educati, Inpu...</td>\n",
       "      <td>1167</td>\n",
       "      <td>1164</td>\n",
       "    </tr>\n",
       "    <tr>\n",
       "      <th>1</th>\n",
       "      <td>2019.12</td>\n",
       "      <td>PPIQ.SQN800000</td>\n",
       "      <td>All industries excl admin health educati, Inpu...</td>\n",
       "      <td>1170</td>\n",
       "      <td>1166</td>\n",
       "    </tr>\n",
       "    <tr>\n",
       "      <th>2</th>\n",
       "      <td>2019.09</td>\n",
       "      <td>PPIQ.SQN800001</td>\n",
       "      <td>All industries ex admin health edu OOD, Inputs...</td>\n",
       "      <td>1167</td>\n",
       "      <td>1164</td>\n",
       "    </tr>\n",
       "    <tr>\n",
       "      <th>3</th>\n",
       "      <td>2019.12</td>\n",
       "      <td>PPIQ.SQN800001</td>\n",
       "      <td>All industries ex admin health edu OOD, Inputs...</td>\n",
       "      <td>1170</td>\n",
       "      <td>1166</td>\n",
       "    </tr>\n",
       "    <tr>\n",
       "      <th>4</th>\n",
       "      <td>2019.09</td>\n",
       "      <td>PPIQ.SQN900000</td>\n",
       "      <td>All industries, Inputs Indexes (Level 0)</td>\n",
       "      <td>1166</td>\n",
       "      <td>1164</td>\n",
       "    </tr>\n",
       "  </tbody>\n",
       "</table>\n",
       "</div>"
      ],
      "text/plain": [
       "   Series reference          Period  \\\n",
       "0           2019.09  PPIQ.SQN800000   \n",
       "1           2019.12  PPIQ.SQN800000   \n",
       "2           2019.09  PPIQ.SQN800001   \n",
       "3           2019.12  PPIQ.SQN800001   \n",
       "4           2019.09  PPIQ.SQN900000   \n",
       "\n",
       "                                         Description  Revised  \\\n",
       "0  All industries excl admin health educati, Inpu...     1167   \n",
       "1  All industries excl admin health educati, Inpu...     1170   \n",
       "2  All industries ex admin health edu OOD, Inputs...     1167   \n",
       "3  All industries ex admin health edu OOD, Inputs...     1170   \n",
       "4           All industries, Inputs Indexes (Level 0)     1166   \n",
       "\n",
       "   Initially published  \n",
       "0                 1164  \n",
       "1                 1166  \n",
       "2                 1164  \n",
       "3                 1166  \n",
       "4                 1164  "
      ]
     },
     "execution_count": 57,
     "metadata": {},
     "output_type": "execute_result"
    }
   ],
   "source": [
    "data.head()"
   ]
  },
  {
   "cell_type": "code",
   "execution_count": 60,
   "metadata": {},
   "outputs": [
    {
     "data": {
      "text/html": [
       "<div>\n",
       "<style scoped>\n",
       "    .dataframe tbody tr th:only-of-type {\n",
       "        vertical-align: middle;\n",
       "    }\n",
       "\n",
       "    .dataframe tbody tr th {\n",
       "        vertical-align: top;\n",
       "    }\n",
       "\n",
       "    .dataframe thead th {\n",
       "        text-align: right;\n",
       "    }\n",
       "</style>\n",
       "<table border=\"1\" class=\"dataframe\">\n",
       "  <thead>\n",
       "    <tr style=\"text-align: right;\">\n",
       "      <th></th>\n",
       "      <th>Series reference</th>\n",
       "      <th>Period</th>\n",
       "      <th>Description</th>\n",
       "      <th>Revised</th>\n",
       "      <th>Initially published</th>\n",
       "    </tr>\n",
       "  </thead>\n",
       "  <tbody>\n",
       "    <tr>\n",
       "      <th>0</th>\n",
       "      <td>2019.09</td>\n",
       "      <td>PPIQ.SQN800000</td>\n",
       "      <td>All industries excl admin health educati, Inpu...</td>\n",
       "      <td>1167</td>\n",
       "      <td>1164</td>\n",
       "    </tr>\n",
       "    <tr>\n",
       "      <th>4</th>\n",
       "      <td>2019.09</td>\n",
       "      <td>PPIQ.SQN900000</td>\n",
       "      <td>All industries, Inputs Indexes (Level 0)</td>\n",
       "      <td>1166</td>\n",
       "      <td>1164</td>\n",
       "    </tr>\n",
       "    <tr>\n",
       "      <th>5</th>\n",
       "      <td>2019.12</td>\n",
       "      <td>PPIQ.SQN900000</td>\n",
       "      <td>All industries, Inputs Indexes (Level 0)</td>\n",
       "      <td>1169</td>\n",
       "      <td>1165</td>\n",
       "    </tr>\n",
       "    <tr>\n",
       "      <th>6</th>\n",
       "      <td>2019.09</td>\n",
       "      <td>PPIQ.SQN900001</td>\n",
       "      <td>All industries excl OOD, Inputs Indexes (Level 0)</td>\n",
       "      <td>1166</td>\n",
       "      <td>1163</td>\n",
       "    </tr>\n",
       "    <tr>\n",
       "      <th>7</th>\n",
       "      <td>2019.12</td>\n",
       "      <td>PPIQ.SQN900001</td>\n",
       "      <td>All industries excl OOD, Inputs Indexes (Level 0)</td>\n",
       "      <td>1169</td>\n",
       "      <td>1165</td>\n",
       "    </tr>\n",
       "    <tr>\n",
       "      <th>...</th>\n",
       "      <td>...</td>\n",
       "      <td>...</td>\n",
       "      <td>...</td>\n",
       "      <td>...</td>\n",
       "      <td>...</td>\n",
       "    </tr>\n",
       "    <tr>\n",
       "      <th>62</th>\n",
       "      <td>2019.12</td>\n",
       "      <td>PPIQ.SQUCC1300</td>\n",
       "      <td>Dairy Product Manufacturing, Outputs Indexes (...</td>\n",
       "      <td>1220</td>\n",
       "      <td>1217</td>\n",
       "    </tr>\n",
       "    <tr>\n",
       "      <th>63</th>\n",
       "      <td>2019.09</td>\n",
       "      <td>PPIQ.SQUCC1310</td>\n",
       "      <td>Dairy Product Manufacturing, Outputs Indexes (...</td>\n",
       "      <td>1243</td>\n",
       "      <td>1241</td>\n",
       "    </tr>\n",
       "    <tr>\n",
       "      <th>64</th>\n",
       "      <td>2019.12</td>\n",
       "      <td>PPIQ.SQUCC1310</td>\n",
       "      <td>Dairy Product Manufacturing, Outputs Indexes (...</td>\n",
       "      <td>1220</td>\n",
       "      <td>1217</td>\n",
       "    </tr>\n",
       "    <tr>\n",
       "      <th>65</th>\n",
       "      <td>2019.12</td>\n",
       "      <td>PPIQ.SQUCC3200</td>\n",
       "      <td>Pulp, Paper and Converted Paper Product, Outpu...</td>\n",
       "      <td>1015</td>\n",
       "      <td>1014</td>\n",
       "    </tr>\n",
       "    <tr>\n",
       "      <th>66</th>\n",
       "      <td>2019.12</td>\n",
       "      <td>PPIQ.SQUCC3210</td>\n",
       "      <td>Pulp, Paper and Converted Paper Product Manufa...</td>\n",
       "      <td>1015</td>\n",
       "      <td>1014</td>\n",
       "    </tr>\n",
       "  </tbody>\n",
       "</table>\n",
       "<p>64 rows × 5 columns</p>\n",
       "</div>"
      ],
      "text/plain": [
       "    Series reference          Period  \\\n",
       "0            2019.09  PPIQ.SQN800000   \n",
       "4            2019.09  PPIQ.SQN900000   \n",
       "5            2019.12  PPIQ.SQN900000   \n",
       "6            2019.09  PPIQ.SQN900001   \n",
       "7            2019.12  PPIQ.SQN900001   \n",
       "..               ...             ...   \n",
       "62           2019.12  PPIQ.SQUCC1300   \n",
       "63           2019.09  PPIQ.SQUCC1310   \n",
       "64           2019.12  PPIQ.SQUCC1310   \n",
       "65           2019.12  PPIQ.SQUCC3200   \n",
       "66           2019.12  PPIQ.SQUCC3210   \n",
       "\n",
       "                                          Description  Revised  \\\n",
       "0   All industries excl admin health educati, Inpu...     1167   \n",
       "4            All industries, Inputs Indexes (Level 0)     1166   \n",
       "5            All industries, Inputs Indexes (Level 0)     1169   \n",
       "6   All industries excl OOD, Inputs Indexes (Level 0)     1166   \n",
       "7   All industries excl OOD, Inputs Indexes (Level 0)     1169   \n",
       "..                                                ...      ...   \n",
       "62  Dairy Product Manufacturing, Outputs Indexes (...     1220   \n",
       "63  Dairy Product Manufacturing, Outputs Indexes (...     1243   \n",
       "64  Dairy Product Manufacturing, Outputs Indexes (...     1220   \n",
       "65  Pulp, Paper and Converted Paper Product, Outpu...     1015   \n",
       "66  Pulp, Paper and Converted Paper Product Manufa...     1015   \n",
       "\n",
       "    Initially published  \n",
       "0                  1164  \n",
       "4                  1164  \n",
       "5                  1165  \n",
       "6                  1163  \n",
       "7                  1165  \n",
       "..                  ...  \n",
       "62                 1217  \n",
       "63                 1241  \n",
       "64                 1217  \n",
       "65                 1014  \n",
       "66                 1014  \n",
       "\n",
       "[64 rows x 5 columns]"
      ]
     },
     "execution_count": 60,
     "metadata": {},
     "output_type": "execute_result"
    }
   ],
   "source": [
    "data.drop([1,2,3],axis=0)"
   ]
  },
  {
   "cell_type": "code",
   "execution_count": 61,
   "metadata": {},
   "outputs": [
    {
     "data": {
      "text/plain": [
       "Series reference       2019.109254\n",
       "Revised                1223.208955\n",
       "Initially published    1209.880597\n",
       "dtype: float64"
      ]
     },
     "execution_count": 61,
     "metadata": {},
     "output_type": "execute_result"
    }
   ],
   "source": [
    "data.mean()"
   ]
  },
  {
   "cell_type": "code",
   "execution_count": 62,
   "metadata": {},
   "outputs": [
    {
     "data": {
      "text/plain": [
       "Series reference                                                 2019.09\n",
       "Period                                                    PPIQ.SQN800000\n",
       "Description            Agriculture, Forestry and Fishing Support Serv...\n",
       "Revised                                                             1015\n",
       "Initially published                                                 1014\n",
       "dtype: object"
      ]
     },
     "execution_count": 62,
     "metadata": {},
     "output_type": "execute_result"
    }
   ],
   "source": [
    "data.min()"
   ]
  },
  {
   "cell_type": "code",
   "execution_count": 63,
   "metadata": {},
   "outputs": [
    {
     "data": {
      "text/plain": [
       "Series reference                                                 2019.12\n",
       "Period                                                    PPIQ.SQUCC3210\n",
       "Description            Wood and Paper Products Manufacturing, Inputs ...\n",
       "Revised                                                             1613\n",
       "Initially published                                                 1608\n",
       "dtype: object"
      ]
     },
     "execution_count": 63,
     "metadata": {},
     "output_type": "execute_result"
    }
   ],
   "source": [
    "data.max()"
   ]
  },
  {
   "cell_type": "code",
   "execution_count": 64,
   "metadata": {},
   "outputs": [
    {
     "data": {
      "text/plain": [
       "Series reference       2019.12\n",
       "Revised                1207.00\n",
       "Initially published    1184.00\n",
       "dtype: float64"
      ]
     },
     "execution_count": 64,
     "metadata": {},
     "output_type": "execute_result"
    }
   ],
   "source": [
    "data.median()"
   ]
  },
  {
   "cell_type": "code",
   "execution_count": 66,
   "metadata": {},
   "outputs": [
    {
     "data": {
      "text/html": [
       "<div>\n",
       "<style scoped>\n",
       "    .dataframe tbody tr th:only-of-type {\n",
       "        vertical-align: middle;\n",
       "    }\n",
       "\n",
       "    .dataframe tbody tr th {\n",
       "        vertical-align: top;\n",
       "    }\n",
       "\n",
       "    .dataframe thead th {\n",
       "        text-align: right;\n",
       "    }\n",
       "</style>\n",
       "<table border=\"1\" class=\"dataframe\">\n",
       "  <thead>\n",
       "    <tr style=\"text-align: right;\">\n",
       "      <th></th>\n",
       "      <th>Series reference</th>\n",
       "      <th>Period</th>\n",
       "      <th>Description</th>\n",
       "      <th>Revised</th>\n",
       "      <th>Initially published</th>\n",
       "    </tr>\n",
       "  </thead>\n",
       "  <tbody>\n",
       "    <tr>\n",
       "      <th>0</th>\n",
       "      <td>2019.09</td>\n",
       "      <td>PPIQ.SQN800000</td>\n",
       "      <td>All industries excl admin health educati, Inpu...</td>\n",
       "      <td>1167</td>\n",
       "      <td>1164</td>\n",
       "    </tr>\n",
       "    <tr>\n",
       "      <th>1</th>\n",
       "      <td>2019.12</td>\n",
       "      <td>PPIQ.SQN800000</td>\n",
       "      <td>All industries excl admin health educati, Inpu...</td>\n",
       "      <td>1170</td>\n",
       "      <td>1166</td>\n",
       "    </tr>\n",
       "    <tr>\n",
       "      <th>2</th>\n",
       "      <td>2019.09</td>\n",
       "      <td>PPIQ.SQN800001</td>\n",
       "      <td>All industries ex admin health edu OOD, Inputs...</td>\n",
       "      <td>1167</td>\n",
       "      <td>1164</td>\n",
       "    </tr>\n",
       "    <tr>\n",
       "      <th>3</th>\n",
       "      <td>2019.12</td>\n",
       "      <td>PPIQ.SQN800001</td>\n",
       "      <td>All industries ex admin health edu OOD, Inputs...</td>\n",
       "      <td>1170</td>\n",
       "      <td>1166</td>\n",
       "    </tr>\n",
       "    <tr>\n",
       "      <th>4</th>\n",
       "      <td>2019.09</td>\n",
       "      <td>PPIQ.SQN900000</td>\n",
       "      <td>All industries, Inputs Indexes (Level 0)</td>\n",
       "      <td>1166</td>\n",
       "      <td>1164</td>\n",
       "    </tr>\n",
       "    <tr>\n",
       "      <th>...</th>\n",
       "      <td>...</td>\n",
       "      <td>...</td>\n",
       "      <td>...</td>\n",
       "      <td>...</td>\n",
       "      <td>...</td>\n",
       "    </tr>\n",
       "    <tr>\n",
       "      <th>62</th>\n",
       "      <td>2019.12</td>\n",
       "      <td>PPIQ.SQUCC1300</td>\n",
       "      <td>Dairy Product Manufacturing, Outputs Indexes (...</td>\n",
       "      <td>1220</td>\n",
       "      <td>1217</td>\n",
       "    </tr>\n",
       "    <tr>\n",
       "      <th>63</th>\n",
       "      <td>2019.09</td>\n",
       "      <td>PPIQ.SQUCC1310</td>\n",
       "      <td>Dairy Product Manufacturing, Outputs Indexes (...</td>\n",
       "      <td>1243</td>\n",
       "      <td>1241</td>\n",
       "    </tr>\n",
       "    <tr>\n",
       "      <th>64</th>\n",
       "      <td>2019.12</td>\n",
       "      <td>PPIQ.SQUCC1310</td>\n",
       "      <td>Dairy Product Manufacturing, Outputs Indexes (...</td>\n",
       "      <td>1220</td>\n",
       "      <td>1217</td>\n",
       "    </tr>\n",
       "    <tr>\n",
       "      <th>65</th>\n",
       "      <td>2019.12</td>\n",
       "      <td>PPIQ.SQUCC3200</td>\n",
       "      <td>Pulp, Paper and Converted Paper Product, Outpu...</td>\n",
       "      <td>1015</td>\n",
       "      <td>1014</td>\n",
       "    </tr>\n",
       "    <tr>\n",
       "      <th>66</th>\n",
       "      <td>2019.12</td>\n",
       "      <td>PPIQ.SQUCC3210</td>\n",
       "      <td>Pulp, Paper and Converted Paper Product Manufa...</td>\n",
       "      <td>1015</td>\n",
       "      <td>1014</td>\n",
       "    </tr>\n",
       "  </tbody>\n",
       "</table>\n",
       "<p>67 rows × 5 columns</p>\n",
       "</div>"
      ],
      "text/plain": [
       "    Series reference          Period  \\\n",
       "0            2019.09  PPIQ.SQN800000   \n",
       "1            2019.12  PPIQ.SQN800000   \n",
       "2            2019.09  PPIQ.SQN800001   \n",
       "3            2019.12  PPIQ.SQN800001   \n",
       "4            2019.09  PPIQ.SQN900000   \n",
       "..               ...             ...   \n",
       "62           2019.12  PPIQ.SQUCC1300   \n",
       "63           2019.09  PPIQ.SQUCC1310   \n",
       "64           2019.12  PPIQ.SQUCC1310   \n",
       "65           2019.12  PPIQ.SQUCC3200   \n",
       "66           2019.12  PPIQ.SQUCC3210   \n",
       "\n",
       "                                          Description  Revised  \\\n",
       "0   All industries excl admin health educati, Inpu...     1167   \n",
       "1   All industries excl admin health educati, Inpu...     1170   \n",
       "2   All industries ex admin health edu OOD, Inputs...     1167   \n",
       "3   All industries ex admin health edu OOD, Inputs...     1170   \n",
       "4            All industries, Inputs Indexes (Level 0)     1166   \n",
       "..                                                ...      ...   \n",
       "62  Dairy Product Manufacturing, Outputs Indexes (...     1220   \n",
       "63  Dairy Product Manufacturing, Outputs Indexes (...     1243   \n",
       "64  Dairy Product Manufacturing, Outputs Indexes (...     1220   \n",
       "65  Pulp, Paper and Converted Paper Product, Outpu...     1015   \n",
       "66  Pulp, Paper and Converted Paper Product Manufa...     1015   \n",
       "\n",
       "    Initially published  \n",
       "0                  1164  \n",
       "1                  1166  \n",
       "2                  1164  \n",
       "3                  1166  \n",
       "4                  1164  \n",
       "..                  ...  \n",
       "62                 1217  \n",
       "63                 1241  \n",
       "64                 1217  \n",
       "65                 1014  \n",
       "66                 1014  \n",
       "\n",
       "[67 rows x 5 columns]"
      ]
     },
     "execution_count": 66,
     "metadata": {},
     "output_type": "execute_result"
    }
   ],
   "source": [
    "data"
   ]
  },
  {
   "cell_type": "code",
   "execution_count": 72,
   "metadata": {},
   "outputs": [
    {
     "data": {
      "text/html": [
       "<div>\n",
       "<style scoped>\n",
       "    .dataframe tbody tr th:only-of-type {\n",
       "        vertical-align: middle;\n",
       "    }\n",
       "\n",
       "    .dataframe tbody tr th {\n",
       "        vertical-align: top;\n",
       "    }\n",
       "\n",
       "    .dataframe thead th {\n",
       "        text-align: right;\n",
       "    }\n",
       "</style>\n",
       "<table border=\"1\" class=\"dataframe\">\n",
       "  <thead>\n",
       "    <tr style=\"text-align: right;\">\n",
       "      <th></th>\n",
       "      <th>Initially published</th>\n",
       "      <th>Revised</th>\n",
       "    </tr>\n",
       "  </thead>\n",
       "  <tbody>\n",
       "    <tr>\n",
       "      <th>0</th>\n",
       "      <td>582.0</td>\n",
       "      <td>583.5</td>\n",
       "    </tr>\n",
       "    <tr>\n",
       "      <th>1</th>\n",
       "      <td>583.0</td>\n",
       "      <td>585.0</td>\n",
       "    </tr>\n",
       "    <tr>\n",
       "      <th>2</th>\n",
       "      <td>582.0</td>\n",
       "      <td>583.5</td>\n",
       "    </tr>\n",
       "    <tr>\n",
       "      <th>3</th>\n",
       "      <td>583.0</td>\n",
       "      <td>585.0</td>\n",
       "    </tr>\n",
       "    <tr>\n",
       "      <th>4</th>\n",
       "      <td>582.0</td>\n",
       "      <td>583.0</td>\n",
       "    </tr>\n",
       "    <tr>\n",
       "      <th>...</th>\n",
       "      <td>...</td>\n",
       "      <td>...</td>\n",
       "    </tr>\n",
       "    <tr>\n",
       "      <th>62</th>\n",
       "      <td>608.5</td>\n",
       "      <td>610.0</td>\n",
       "    </tr>\n",
       "    <tr>\n",
       "      <th>63</th>\n",
       "      <td>620.5</td>\n",
       "      <td>621.5</td>\n",
       "    </tr>\n",
       "    <tr>\n",
       "      <th>64</th>\n",
       "      <td>608.5</td>\n",
       "      <td>610.0</td>\n",
       "    </tr>\n",
       "    <tr>\n",
       "      <th>65</th>\n",
       "      <td>507.0</td>\n",
       "      <td>507.5</td>\n",
       "    </tr>\n",
       "    <tr>\n",
       "      <th>66</th>\n",
       "      <td>507.0</td>\n",
       "      <td>507.5</td>\n",
       "    </tr>\n",
       "  </tbody>\n",
       "</table>\n",
       "<p>67 rows × 2 columns</p>\n",
       "</div>"
      ],
      "text/plain": [
       "    Initially published  Revised\n",
       "0                 582.0    583.5\n",
       "1                 583.0    585.0\n",
       "2                 582.0    583.5\n",
       "3                 583.0    585.0\n",
       "4                 582.0    583.0\n",
       "..                  ...      ...\n",
       "62                608.5    610.0\n",
       "63                620.5    621.5\n",
       "64                608.5    610.0\n",
       "65                507.0    507.5\n",
       "66                507.0    507.5\n",
       "\n",
       "[67 rows x 2 columns]"
      ]
     },
     "execution_count": 72,
     "metadata": {},
     "output_type": "execute_result"
    }
   ],
   "source": [
    "def half(s):\n",
    "    return s/2\n",
    "data[['Initially published','Revised']].apply(half)"
   ]
  },
  {
   "cell_type": "code",
   "execution_count": 74,
   "metadata": {},
   "outputs": [
    {
     "data": {
      "text/plain": [
       "1217    3\n",
       "1218    3\n",
       "1162    3\n",
       "1166    3\n",
       "1179    3\n",
       "1613    2\n",
       "1293    2\n",
       "1170    2\n",
       "1015    2\n",
       "1169    2\n",
       "1167    2\n",
       "1220    2\n",
       "1108    2\n",
       "1237    2\n",
       "1243    2\n",
       "1545    2\n",
       "1251    2\n",
       "1061    2\n",
       "1131    2\n",
       "1284    2\n",
       "1138    2\n",
       "1101    2\n",
       "1429    1\n",
       "1150    1\n",
       "1287    1\n",
       "1178    1\n",
       "1207    1\n",
       "1184    1\n",
       "1185    1\n",
       "1318    1\n",
       "1203    1\n",
       "1336    1\n",
       "1459    1\n",
       "1298    1\n",
       "1232    1\n",
       "1245    1\n",
       "1250    1\n",
       "1258    1\n",
       "1264    1\n",
       "1154    1\n",
       "Name: Revised, dtype: int64"
      ]
     },
     "execution_count": 74,
     "metadata": {},
     "output_type": "execute_result"
    }
   ],
   "source": [
    "data['Revised'].value_counts()"
   ]
  },
  {
   "cell_type": "code",
   "execution_count": 79,
   "metadata": {},
   "outputs": [
    {
     "data": {
      "text/html": [
       "<div>\n",
       "<style scoped>\n",
       "    .dataframe tbody tr th:only-of-type {\n",
       "        vertical-align: middle;\n",
       "    }\n",
       "\n",
       "    .dataframe tbody tr th {\n",
       "        vertical-align: top;\n",
       "    }\n",
       "\n",
       "    .dataframe thead th {\n",
       "        text-align: right;\n",
       "    }\n",
       "</style>\n",
       "<table border=\"1\" class=\"dataframe\">\n",
       "  <thead>\n",
       "    <tr style=\"text-align: right;\">\n",
       "      <th></th>\n",
       "      <th>Series reference</th>\n",
       "      <th>Period</th>\n",
       "      <th>Description</th>\n",
       "      <th>Revised</th>\n",
       "      <th>Initially published</th>\n",
       "    </tr>\n",
       "  </thead>\n",
       "  <tbody>\n",
       "    <tr>\n",
       "      <th>66</th>\n",
       "      <td>2019.12</td>\n",
       "      <td>PPIQ.SQUCC3210</td>\n",
       "      <td>Pulp, Paper and Converted Paper Product Manufa...</td>\n",
       "      <td>1015</td>\n",
       "      <td>1014</td>\n",
       "    </tr>\n",
       "    <tr>\n",
       "      <th>65</th>\n",
       "      <td>2019.12</td>\n",
       "      <td>PPIQ.SQUCC3200</td>\n",
       "      <td>Pulp, Paper and Converted Paper Product, Outpu...</td>\n",
       "      <td>1015</td>\n",
       "      <td>1014</td>\n",
       "    </tr>\n",
       "    <tr>\n",
       "      <th>45</th>\n",
       "      <td>2019.09</td>\n",
       "      <td>PPIQ.SQUAA1310</td>\n",
       "      <td>Dairy Cattle Farming, Outputs Indexes (Level 4)</td>\n",
       "      <td>1061</td>\n",
       "      <td>1019</td>\n",
       "    </tr>\n",
       "    <tr>\n",
       "      <th>43</th>\n",
       "      <td>2019.09</td>\n",
       "      <td>PPIQ.SQUAA1300</td>\n",
       "      <td>Dairy Cattle Farming, Outputs Indexes (Level 3)</td>\n",
       "      <td>1061</td>\n",
       "      <td>1019</td>\n",
       "    </tr>\n",
       "    <tr>\n",
       "      <th>46</th>\n",
       "      <td>2019.12</td>\n",
       "      <td>PPIQ.SQUAA1310</td>\n",
       "      <td>Dairy Cattle Farming, Outputs Indexes (Level 4)</td>\n",
       "      <td>1101</td>\n",
       "      <td>1048</td>\n",
       "    </tr>\n",
       "    <tr>\n",
       "      <th>...</th>\n",
       "      <td>...</td>\n",
       "      <td>...</td>\n",
       "      <td>...</td>\n",
       "      <td>...</td>\n",
       "      <td>...</td>\n",
       "    </tr>\n",
       "    <tr>\n",
       "      <th>56</th>\n",
       "      <td>2019.12</td>\n",
       "      <td>PPIQ.SQUC03210</td>\n",
       "      <td>Logs for domestic market, LPT PPI - NA06CC hig...</td>\n",
       "      <td>1459</td>\n",
       "      <td>1399</td>\n",
       "    </tr>\n",
       "    <tr>\n",
       "      <th>41</th>\n",
       "      <td>2019.09</td>\n",
       "      <td>PPIQ.SQUAA1210</td>\n",
       "      <td>Sheep, Beef Cattle and Grain Farming, Outputs ...</td>\n",
       "      <td>1545</td>\n",
       "      <td>1541</td>\n",
       "    </tr>\n",
       "    <tr>\n",
       "      <th>39</th>\n",
       "      <td>2019.09</td>\n",
       "      <td>PPIQ.SQUAA1200</td>\n",
       "      <td>Sheep, Beef Cattle and Grain Farming, Outputs ...</td>\n",
       "      <td>1545</td>\n",
       "      <td>1541</td>\n",
       "    </tr>\n",
       "    <tr>\n",
       "      <th>42</th>\n",
       "      <td>2019.12</td>\n",
       "      <td>PPIQ.SQUAA1210</td>\n",
       "      <td>Sheep, Beef Cattle and Grain Farming, Outputs ...</td>\n",
       "      <td>1613</td>\n",
       "      <td>1608</td>\n",
       "    </tr>\n",
       "    <tr>\n",
       "      <th>40</th>\n",
       "      <td>2019.12</td>\n",
       "      <td>PPIQ.SQUAA1200</td>\n",
       "      <td>Sheep, Beef Cattle and Grain Farming, Outputs ...</td>\n",
       "      <td>1613</td>\n",
       "      <td>1608</td>\n",
       "    </tr>\n",
       "  </tbody>\n",
       "</table>\n",
       "<p>67 rows × 5 columns</p>\n",
       "</div>"
      ],
      "text/plain": [
       "    Series reference          Period  \\\n",
       "66           2019.12  PPIQ.SQUCC3210   \n",
       "65           2019.12  PPIQ.SQUCC3200   \n",
       "45           2019.09  PPIQ.SQUAA1310   \n",
       "43           2019.09  PPIQ.SQUAA1300   \n",
       "46           2019.12  PPIQ.SQUAA1310   \n",
       "..               ...             ...   \n",
       "56           2019.12  PPIQ.SQUC03210   \n",
       "41           2019.09  PPIQ.SQUAA1210   \n",
       "39           2019.09  PPIQ.SQUAA1200   \n",
       "42           2019.12  PPIQ.SQUAA1210   \n",
       "40           2019.12  PPIQ.SQUAA1200   \n",
       "\n",
       "                                          Description  Revised  \\\n",
       "66  Pulp, Paper and Converted Paper Product Manufa...     1015   \n",
       "65  Pulp, Paper and Converted Paper Product, Outpu...     1015   \n",
       "45    Dairy Cattle Farming, Outputs Indexes (Level 4)     1061   \n",
       "43    Dairy Cattle Farming, Outputs Indexes (Level 3)     1061   \n",
       "46    Dairy Cattle Farming, Outputs Indexes (Level 4)     1101   \n",
       "..                                                ...      ...   \n",
       "56  Logs for domestic market, LPT PPI - NA06CC hig...     1459   \n",
       "41  Sheep, Beef Cattle and Grain Farming, Outputs ...     1545   \n",
       "39  Sheep, Beef Cattle and Grain Farming, Outputs ...     1545   \n",
       "42  Sheep, Beef Cattle and Grain Farming, Outputs ...     1613   \n",
       "40  Sheep, Beef Cattle and Grain Farming, Outputs ...     1613   \n",
       "\n",
       "    Initially published  \n",
       "66                 1014  \n",
       "65                 1014  \n",
       "45                 1019  \n",
       "43                 1019  \n",
       "46                 1048  \n",
       "..                  ...  \n",
       "56                 1399  \n",
       "41                 1541  \n",
       "39                 1541  \n",
       "42                 1608  \n",
       "40                 1608  \n",
       "\n",
       "[67 rows x 5 columns]"
      ]
     },
     "execution_count": 79,
     "metadata": {},
     "output_type": "execute_result"
    }
   ],
   "source": [
    "data.sort_values(by='Revised')"
   ]
  },
  {
   "cell_type": "code",
   "execution_count": null,
   "metadata": {},
   "outputs": [],
   "source": []
  }
 ],
 "metadata": {
  "kernelspec": {
   "display_name": "Python 3",
   "language": "python",
   "name": "python3"
  },
  "language_info": {
   "codemirror_mode": {
    "name": "ipython",
    "version": 3
   },
   "file_extension": ".py",
   "mimetype": "text/x-python",
   "name": "python",
   "nbconvert_exporter": "python",
   "pygments_lexer": "ipython3",
   "version": "3.7.6"
  }
 },
 "nbformat": 4,
 "nbformat_minor": 4
}
